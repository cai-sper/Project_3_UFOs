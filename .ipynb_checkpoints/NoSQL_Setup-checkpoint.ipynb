{
 "cells": [
  {
   "cell_type": "markdown",
   "id": "c7efada7",
   "metadata": {},
   "source": [
    "Imported CSV file into MongoDB using the following line of code:<br>\n",
    "`mongoimport --type csv -d ufo_db -c ufo_sightings --headerline --drop scrubbed.csv`"
   ]
  },
  {
   "cell_type": "code",
   "execution_count": 2,
   "id": "1d7acc92",
   "metadata": {},
   "outputs": [],
   "source": [
    "# Import dependencies\n",
    "from pymongo import MongoClient\n",
    "from pprint import pprint"
   ]
  },
  {
   "cell_type": "code",
   "execution_count": 3,
   "id": "31e91d7a",
   "metadata": {},
   "outputs": [],
   "source": [
    "# Create an instance of MongoClient\n",
    "mongo = MongoClient(port=27017)"
   ]
  },
  {
   "cell_type": "code",
   "execution_count": 4,
   "id": "906fcd7c",
   "metadata": {},
   "outputs": [
    {
     "name": "stdout",
     "output_type": "stream",
     "text": [
      "['admin', 'autosaurus', 'classDB', 'config', 'epa', 'fruits_db', 'local', 'met', 'petsitly_marketing', 'rop', 'ufo_db', 'uk_food']\n"
     ]
    }
   ],
   "source": [
    "# confirm that our new database was created\n",
    "print(mongo.list_database_names())"
   ]
  },
  {
   "cell_type": "code",
   "execution_count": 5,
   "id": "6ec57f5f",
   "metadata": {},
   "outputs": [],
   "source": [
    "# assign the ufo database to a variable name\n",
    "db = mongo['ufo_db']"
   ]
  },
  {
   "cell_type": "code",
   "execution_count": 6,
   "id": "3fcefe05",
   "metadata": {},
   "outputs": [
    {
     "data": {
      "text/plain": [
       "['ufo_sightings']"
      ]
     },
     "execution_count": 6,
     "metadata": {},
     "output_type": "execute_result"
    }
   ],
   "source": [
    "# review the collections in our new database\n",
    "db.list_collection_names()"
   ]
  },
  {
   "cell_type": "code",
   "execution_count": 7,
   "id": "78f7f579",
   "metadata": {},
   "outputs": [
    {
     "data": {
      "text/plain": [
       "{'_id': ObjectId('64dc0475c136bea33cd07dee'),\n",
       " 'datetime': '1/1/1910 24:00',\n",
       " 'city': 'kirksville (near)',\n",
       " 'state': 'mo',\n",
       " 'country': 'us',\n",
       " 'shape': 'disk',\n",
       " 'duration (seconds)': 120,\n",
       " 'duration (hours/min)': 'minutes',\n",
       " 'comments': 'Historical sighting (1903 - 1913) Northern Missouri',\n",
       " 'date posted': '9/15/2005',\n",
       " 'latitude': 40.1947222,\n",
       " 'longitude': -92.5830556}"
      ]
     },
     "execution_count": 7,
     "metadata": {},
     "output_type": "execute_result"
    }
   ],
   "source": [
    "# review a document in the ufo_sightings collection\n",
    "db['ufo_sightings'].find_one()"
   ]
  },
  {
   "cell_type": "code",
   "execution_count": 8,
   "id": "c4ffc917",
   "metadata": {},
   "outputs": [],
   "source": [
    "# assign the collection to a variable\n",
    "ufo_sightings = db['ufo_sightings']"
   ]
  }
 ],
 "metadata": {
  "kernelspec": {
   "display_name": "Python 3 (ipykernel)",
   "language": "python",
   "name": "python3"
  },
  "language_info": {
   "codemirror_mode": {
    "name": "ipython",
    "version": 3
   },
   "file_extension": ".py",
   "mimetype": "text/x-python",
   "name": "python",
   "nbconvert_exporter": "python",
   "pygments_lexer": "ipython3",
   "version": "3.10.11"
  }
 },
 "nbformat": 4,
 "nbformat_minor": 5
}
