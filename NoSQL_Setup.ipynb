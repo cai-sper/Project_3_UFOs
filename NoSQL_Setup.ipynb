{
 "cells": [
  {
   "cell_type": "markdown",
   "id": "c7efada7",
   "metadata": {},
   "source": [
    "Imported CSV file into MongoDB using the following line of code:<br>\n",
    "`mongoimport --type csv -d ufo_db -c ufo_sightings --headerline --drop scrubbed.csv`"
   ]
  },
  {
   "cell_type": "code",
   "execution_count": 98,
   "id": "1d7acc92",
   "metadata": {},
   "outputs": [],
   "source": [
    "# Import dependencies\n",
    "from pymongo import MongoClient\n",
    "from pprint import pprint"
   ]
  },
  {
   "cell_type": "code",
   "execution_count": 99,
   "id": "31e91d7a",
   "metadata": {},
   "outputs": [],
   "source": [
    "# Create an instance of MongoClient\n",
    "mongo = MongoClient(port=27017)"
   ]
  },
  {
   "cell_type": "code",
   "execution_count": 100,
   "id": "906fcd7c",
   "metadata": {},
   "outputs": [
    {
     "name": "stdout",
     "output_type": "stream",
     "text": [
      "['admin', 'config', 'local', 'test', 'ufo_db']\n"
     ]
    }
   ],
   "source": [
    "# confirm that our new database was created\n",
    "print(mongo.list_database_names())"
   ]
  },
  {
   "cell_type": "code",
   "execution_count": 101,
   "id": "6ec57f5f",
   "metadata": {},
   "outputs": [],
   "source": [
    "# assign the ufo database to a variable name\n",
    "db = mongo['ufo_db']"
   ]
  },
  {
   "cell_type": "code",
   "execution_count": 102,
   "id": "3fcefe05",
   "metadata": {},
   "outputs": [
    {
     "data": {
      "text/plain": [
       "['ufo_sightings']"
      ]
     },
     "execution_count": 102,
     "metadata": {},
     "output_type": "execute_result"
    }
   ],
   "source": [
    "# review the collections in our new database\n",
    "db.list_collection_names()"
   ]
  },
  {
   "cell_type": "code",
   "execution_count": 103,
   "id": "78f7f579",
   "metadata": {},
   "outputs": [
    {
     "data": {
      "text/plain": [
       "{'_id': ObjectId('64deadc8bf736d5466ada3a5'),\n",
       " 'datetime': '1/1/1944 12:00',\n",
       " 'city': 'san diego',\n",
       " 'state': 'ca',\n",
       " 'country': 'us',\n",
       " 'shape': 'cigar',\n",
       " 'duration (seconds)': 180,\n",
       " 'duration (hours/min)': '3 minutes',\n",
       " 'comments': 'A sighting of one silver or white enlongated cylindrical or cigar shaped craft without any visual control surfaces heading west to east',\n",
       " 'date posted': '7/25/2004',\n",
       " 'latitude': 32.7152778,\n",
       " 'longitude': -117.1563889,\n",
       " 'Year': 1944}"
      ]
     },
     "execution_count": 103,
     "metadata": {},
     "output_type": "execute_result"
    }
   ],
   "source": [
    "# review a document in the ufo_sightings collection\n",
    "db['ufo_sightings'].find_one()"
   ]
  },
  {
   "cell_type": "code",
   "execution_count": 104,
   "id": "c4ffc917",
   "metadata": {},
   "outputs": [],
   "source": [
    "# assign the collection to a variable\n",
    "ufo_sightings = db['ufo_sightings']"
   ]
  },
  {
   "cell_type": "code",
   "execution_count": 114,
   "id": "e04e1242",
   "metadata": {},
   "outputs": [],
   "source": [
    "from datetime import datetime\n",
    "for document in ufo_sightings.find():\n",
    "    \n",
    "    # Get the datetime value from the document\n",
    "    datetime_str = document['datetime']\n",
    "    \n",
    "    # Convert the datetime string to a datetime object\n",
    "    datetime_obj = datetime.strptime(datetime_str, '%m/%d/%Y %H:%M')\n",
    "    \n",
    "    # Extract the dates from the datetime object\n",
    "    year = datetime_obj.year\n",
    "    month = datetime_obj.month\n",
    "    day = datetime_obj.day\n",
    "    \n",
    "    # Update the document with the new \"Year\" field\n",
    "    ufo_sightings.update_one({'_id': document['_id']}, {'$set': {'Year': year}})\n",
    "    ufo_sightings.update_one({'_id': document['_id']}, {'$set': {'Month': month}})\n",
    "    ufo_sightings.update_one({'_id': document['_id']}, {'$set': {'Day': day}})"
   ]
  },
  {
   "cell_type": "code",
   "execution_count": 115,
   "id": "b497b97e",
   "metadata": {},
   "outputs": [
    {
     "data": {
      "text/plain": [
       "{'_id': ObjectId('64deadc8bf736d5466ada3a5'),\n",
       " 'datetime': '1/1/1944 12:00',\n",
       " 'city': 'san diego',\n",
       " 'state': 'ca',\n",
       " 'country': 'us',\n",
       " 'shape': 'cigar',\n",
       " 'duration (seconds)': 180,\n",
       " 'duration (hours/min)': '3 minutes',\n",
       " 'comments': 'A sighting of one silver or white enlongated cylindrical or cigar shaped craft without any visual control surfaces heading west to east',\n",
       " 'date posted': '7/25/2004',\n",
       " 'latitude': 32.7152778,\n",
       " 'longitude': -117.1563889,\n",
       " 'Year': 1944,\n",
       " 'Month': 1,\n",
       " 'Day': 1}"
      ]
     },
     "execution_count": 115,
     "metadata": {},
     "output_type": "execute_result"
    }
   ],
   "source": [
    "ufo_sightings.find_one()"
   ]
  },
  {
   "cell_type": "code",
   "execution_count": null,
   "id": "6cabf34a",
   "metadata": {},
   "outputs": [],
   "source": []
  },
  {
   "cell_type": "code",
   "execution_count": null,
   "id": "bed2042d",
   "metadata": {},
   "outputs": [],
   "source": []
  }
 ],
 "metadata": {
  "kernelspec": {
   "display_name": "Python 3 (ipykernel)",
   "language": "python",
   "name": "python3"
  },
  "language_info": {
   "codemirror_mode": {
    "name": "ipython",
    "version": 3
   },
   "file_extension": ".py",
   "mimetype": "text/x-python",
   "name": "python",
   "nbconvert_exporter": "python",
   "pygments_lexer": "ipython3",
   "version": "3.10.9"
  }
 },
 "nbformat": 4,
 "nbformat_minor": 5
}
