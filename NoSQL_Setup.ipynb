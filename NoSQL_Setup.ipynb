{
 "cells": [
  {
   "cell_type": "markdown",
   "id": "a2f5b0c2",
   "metadata": {},
   "source": [
    "Imported CSV file into MongoDB using the following line of code:<br>\n",
    "`mongoimport --type csv -d ufo_db -c ufo_sightings --headerline --drop scrubbed.csv`"
   ]
  },
  {
   "cell_type": "code",
   "execution_count": 1,
   "id": "6627054f",
   "metadata": {},
   "outputs": [],
   "source": [
    "# Import dependencies\n",
    "from pymongo import MongoClient\n",
    "from pprint import pprint"
   ]
  },
  {
   "cell_type": "code",
   "execution_count": 2,
   "id": "761b3895",
   "metadata": {},
   "outputs": [],
   "source": [
    "# Create an instance of MongoClient\n",
    "mongo = MongoClient(port=27017)"
   ]
  },
  {
   "cell_type": "code",
   "execution_count": 3,
   "id": "65be0e67",
   "metadata": {},
   "outputs": [
    {
     "name": "stdout",
     "output_type": "stream",
     "text": [
      "['admin', 'autosaurus', 'classDB', 'config', 'epa', 'fruits_db', 'local', 'met', 'petsitly_marketing', 'rop', 'ufo_db', 'uk_food']\n"
     ]
    }
   ],
   "source": [
    "# confirm that our new database was created\n",
    "print(mongo.list_database_names())"
   ]
  },
  {
   "cell_type": "code",
   "execution_count": 4,
   "id": "f1d02c5f",
   "metadata": {},
   "outputs": [],
   "source": [
    "# assign the ufo database to a variable name\n",
    "db = mongo['ufo_db']"
   ]
  },
  {
   "cell_type": "code",
   "execution_count": 5,
   "id": "b9b4dea0",
   "metadata": {},
   "outputs": [
    {
     "data": {
      "text/plain": [
       "['ufo_sightings']"
      ]
     },
     "execution_count": 5,
     "metadata": {},
     "output_type": "execute_result"
    }
   ],
   "source": [
    "# review the collections in our new database\n",
    "db.list_collection_names()"
   ]
  },
  {
   "cell_type": "code",
   "execution_count": 6,
   "id": "713b39e3",
   "metadata": {},
   "outputs": [
    {
     "data": {
      "text/plain": [
       "{'_id': ObjectId('64dc0475c136bea33cd07dee'),\n",
       " 'datetime': '1/1/1910 24:00',\n",
       " 'city': 'kirksville (near)',\n",
       " 'state': 'mo',\n",
       " 'country': 'us',\n",
       " 'shape': 'disk',\n",
       " 'duration (seconds)': 120,\n",
       " 'duration (hours/min)': 'minutes',\n",
       " 'comments': 'Historical sighting (1903 - 1913) Northern Missouri',\n",
       " 'date posted': '9/15/2005',\n",
       " 'latitude': 40.1947222,\n",
       " 'longitude': -92.5830556}"
      ]
     },
     "execution_count": 6,
     "metadata": {},
     "output_type": "execute_result"
    }
   ],
   "source": [
    "# review a document in the ufo_sightings collection\n",
    "db['ufo_sightings'].find_one()"
   ]
  },
  {
   "cell_type": "code",
   "execution_count": 7,
   "id": "625eaa93",
   "metadata": {},
   "outputs": [],
   "source": [
    "# assign the collection to a variable"
   ]
  },
  {
   "cell_type": "code",
   "execution_count": 8,
   "id": "03def0f1",
   "metadata": {},
   "outputs": [],
   "source": [
    "ufo_sightings = db['ufo_sightings']"
   ]
  }
 ],
 "metadata": {
  "kernelspec": {
   "display_name": "Python 3 (ipykernel)",
   "language": "python",
   "name": "python3"
  },
  "language_info": {
   "codemirror_mode": {
    "name": "ipython",
    "version": 3
   },
   "file_extension": ".py",
   "mimetype": "text/x-python",
   "name": "python",
   "nbconvert_exporter": "python",
   "pygments_lexer": "ipython3",
   "version": "3.10.11"
  }
 },
 "nbformat": 4,
 "nbformat_minor": 5
}
