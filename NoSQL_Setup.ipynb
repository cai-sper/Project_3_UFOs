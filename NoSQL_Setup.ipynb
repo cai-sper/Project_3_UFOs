{
 "cells": [
  {
   "cell_type": "markdown",
   "id": "c7efada7",
   "metadata": {},
   "source": [
    "Imported CSV file into MongoDB using the following line of code:<br>\n",
    "`mongoimport --type csv -d ufo_db -c ufo_sightings --headerline --drop scrubbed.csv`"
   ]
  },
  {
   "cell_type": "code",
   "execution_count": 1,
   "id": "1d7acc92",
   "metadata": {},
   "outputs": [],
   "source": [
    "# Import dependencies\n",
    "from pymongo import MongoClient\n",
    "from pprint import pprint"
   ]
  },
  {
   "cell_type": "code",
   "execution_count": 2,
   "id": "31e91d7a",
   "metadata": {},
   "outputs": [],
   "source": [
    "# Create an instance of MongoClient\n",
    "mongo = MongoClient(port=27017)"
   ]
  },
  {
   "cell_type": "code",
   "execution_count": 3,
   "id": "906fcd7c",
   "metadata": {},
   "outputs": [
    {
     "name": "stdout",
     "output_type": "stream",
     "text": [
      "['admin', 'autosaurus', 'classDB', 'config', 'epa', 'fruits_db', 'local', 'met', 'petsitly_marketing', 'rop', 'ufo_db', 'uk_food']\n"
     ]
    }
   ],
   "source": [
    "# confirm that our new database was created\n",
    "print(mongo.list_database_names())"
   ]
  },
  {
   "cell_type": "code",
   "execution_count": 4,
   "id": "6ec57f5f",
   "metadata": {},
   "outputs": [],
   "source": [
    "# assign the ufo database to a variable name\n",
    "db = mongo['ufo_db']"
   ]
  },
  {
   "cell_type": "code",
   "execution_count": 5,
   "id": "3fcefe05",
   "metadata": {},
   "outputs": [
    {
     "data": {
      "text/plain": [
       "['ufo_sightings']"
      ]
     },
     "execution_count": 5,
     "metadata": {},
     "output_type": "execute_result"
    }
   ],
   "source": [
    "# review the collections in our new database\n",
    "db.list_collection_names()"
   ]
  },
  {
   "cell_type": "code",
   "execution_count": 6,
   "id": "78f7f579",
   "metadata": {},
   "outputs": [
    {
     "data": {
      "text/plain": [
       "{'_id': ObjectId('64dc0475c136bea33cd07dee'),\n",
       " 'datetime': '1/1/1910 24:00',\n",
       " 'city': 'kirksville (near)',\n",
       " 'state': 'mo',\n",
       " 'country': 'us',\n",
       " 'shape': 'disk',\n",
       " 'duration (seconds)': 120,\n",
       " 'duration (hours/min)': 'minutes',\n",
       " 'comments': 'Historical sighting (1903 - 1913) Northern Missouri',\n",
       " 'date posted': '9/15/2005',\n",
       " 'latitude': 40.1947222,\n",
       " 'longitude': -92.5830556}"
      ]
     },
     "execution_count": 6,
     "metadata": {},
     "output_type": "execute_result"
    }
   ],
   "source": [
    "# review a document in the ufo_sightings collection\n",
    "db['ufo_sightings'].find_one()"
   ]
  },
  {
   "cell_type": "code",
   "execution_count": 7,
   "id": "c4ffc917",
   "metadata": {},
   "outputs": [],
   "source": [
    "# assign the collection to a variable"
   ]
  },
  {
   "cell_type": "code",
   "execution_count": 11,
   "id": "c06f083c",
   "metadata": {},
   "outputs": [],
   "source": [
    "ufo_sightings = db['ufo_sightings']"
   ]
  },
  {
   "cell_type": "code",
   "execution_count": 18,
   "id": "44b33515",
   "metadata": {},
   "outputs": [
    {
     "name": "stdout",
     "output_type": "stream",
     "text": [
      "{'_id': ObjectId('64dc0475c136bea33cd07dee'), 'datetime': '1/1/1910 24:00', 'city': 'kirksville (near)', 'state': 'mo', 'country': 'us', 'shape': 'disk', 'duration (seconds)': 120, 'duration (hours/min)': 'minutes', 'comments': 'Historical sighting (1903 - 1913) Northern Missouri', 'date posted': '9/15/2005', 'latitude': 40.1947222, 'longitude': -92.5830556}\n",
      "{'_id': ObjectId('64dc0475c136bea33cd07def'), 'datetime': '1/1/1956 05:30', 'city': 'weirton', 'state': 'wv', 'country': 'us', 'shape': 'disk', 'duration (seconds)': 10, 'duration (hours/min)': '10 seconds', 'comments': 'My Uncle Sam was driving to work very early one winter morning.  He lived down the street from my house.  As he approached my home in h', 'date posted': '1/7/2000', 'latitude': 40.4188889, 'longitude': -80.5897222}\n",
      "{'_id': ObjectId('64dc0475c136bea33cd07df0'), 'datetime': '1/1/1944 12:00', 'city': 'san diego', 'state': 'ca', 'country': 'us', 'shape': 'cigar', 'duration (seconds)': 180, 'duration (hours/min)': '3 minutes', 'comments': 'A sighting of one silver or white enlongated cylindrical or cigar shaped craft without any visual control surfaces heading west to east', 'date posted': '7/25/2004', 'latitude': 32.7152778, 'longitude': -117.1563889}\n",
      "{'_id': ObjectId('64dc0475c136bea33cd07df1'), 'datetime': '1/1/1958 22:00', 'city': 'pep', 'state': 'tx', 'country': 'us', 'shape': 'fireball', 'duration (seconds)': 2, 'duration (hours/min)': '2sec', 'comments': 'Green fire balls&#44 Texas Panhandle&#44 late 1950&#39s.', 'date posted': '12/12/2009', 'latitude': 33.8161111, 'longitude': -102.5577778}\n",
      "{'_id': ObjectId('64dc0475c136bea33cd07df2'), 'datetime': '1/1/1957 21:00', 'city': 'dallas', 'state': 'tx', 'country': 'us', 'shape': 'unknown', 'duration (seconds)': 20, 'duration (hours/min)': '20 seconds', 'comments': 'I was flying the first of 4 USAF aircraft on a simulated bombing run on a bridge span in Dallas&#44 Texas.  The other 3 aircraft were behi', 'date posted': '8/24/2004', 'latitude': 32.7833333, 'longitude': -96.8}\n",
      "{'_id': ObjectId('64dc0475c136bea33cd07df3'), 'datetime': '1/1/1961 12:00', 'city': 'santa clara', 'state': 'ca', 'country': 'us', 'shape': 'circle', 'duration (seconds)': 10800, 'duration (hours/min)': '3 hours', 'comments': 'Stationary circular object 12 oclock high.', 'date posted': '1/17/2004', 'latitude': 37.3541667, 'longitude': -121.9541667}\n",
      "{'_id': ObjectId('64dc0475c136bea33cd07df4'), 'datetime': '1/1/1961 13:00', 'city': 'kendallville', 'state': 'in', 'country': 'us', 'shape': 'circle', 'duration (seconds)': 30, 'duration (hours/min)': '30 seconds', 'comments': 'It was a clear Indiana day and I saw something fascinating', 'date posted': '10/8/2007', 'latitude': 41.4413889, 'longitude': -85.265}\n",
      "{'_id': ObjectId('64dc0475c136bea33cd07df5'), 'datetime': '1/1/1953 14:00', 'city': 'oklahoma/texas border', 'state': 'tx', 'country': 'us', 'shape': 'cigar', 'duration (seconds)': 300, 'duration (hours/min)': '5 minutes', 'comments': 'Copper cigar-shaped object in early 1950&#39s.', 'date posted': '3/31/2008', 'latitude': 33.660135, 'longitude': -97.715556}\n",
      "{'_id': ObjectId('64dc0475c136bea33cd07df6'), 'datetime': '1/1/1954 22:00', 'city': 'souix city', 'state': 'ia', 'country': 'us', 'shape': 'circle', 'duration (seconds)': 30, 'duration (hours/min)': '30 seconds', 'comments': '1954 Radar sighting&#44 Air Force base in Iowa - 50000 - 80000 feet 1&#44200 - 1&#44800 miles per hour.', 'date posted': '4/16/2005', 'latitude': 42.499994, 'longitude': -96.400307}\n",
      "{'_id': ObjectId('64dc0475c136bea33cd07df7'), 'datetime': '1/1/1953 24:00', 'city': 'nebraska (rural)', 'state': 'ne', 'country': 'us', 'shape': 'unknown', 'duration (seconds)': 600, 'duration (hours/min)': '10 min', 'comments': 'This is an account told to me by my mother that happened in the early 50&#39s. I was 4-5 years old and don&#39t remember. She said we were tr', 'date posted': '4/16/2005', 'latitude': 41.492537, 'longitude': -99.901813}\n",
      "{'_id': ObjectId('64dc0475c136bea33cd07df8'), 'datetime': '1/1/1962 08:00', 'city': 'key west', 'state': 'fl', 'country': 'us', 'shape': 'sphere', 'duration (seconds)': 300, 'duration (hours/min)': '3 to 5 minutes', 'comments': 'in the very early morning hours of 1962&#44 I don&#39t recall the date or month&#44 at the time I was only 10 years of age&#44 a very loud whistlei', 'date posted': '3/7/1998', 'latitude': 24.5552778, 'longitude': -81.7827778}\n",
      "{'_id': ObjectId('64dc0475c136bea33cd07df9'), 'datetime': '1/1/1963 22:00', 'city': 'helena (near)', 'state': 'mt', 'country': 'us', 'shape': 'diamond', 'duration (seconds)': 3600, 'duration (hours/min)': '1 hour', 'comments': 'Diamond shaped UFO blocks USAF runway', 'date posted': '2/10/2012', 'latitude': 46.5927778, 'longitude': -112.0352778}\n",
      "{'_id': ObjectId('64dc0475c136bea33cd07dfa'), 'datetime': '1/1/1965 17:00', 'city': 'mokena', 'state': 'il', 'country': 'us', 'shape': 'light', 'duration (seconds)': 20, 'duration (hours/min)': '20 seconds', 'comments': 'Light over Mokena Illinios', 'date posted': '11/21/2010', 'latitude': 41.5261111, 'longitude': -87.8891667}\n",
      "{'_id': ObjectId('64dc0475c136bea33cd07dfb'), 'datetime': '1/1/1965 20:00', 'city': 'st. ansgar', 'state': 'ia', 'country': 'us', 'shape': 'fireball', 'duration (seconds)': 20, 'duration (hours/min)': '20 seconds', 'comments': 'winter nite wonder', 'date posted': '2/1/2007', 'latitude': 43.3783333, 'longitude': -92.9186111}\n",
      "{'_id': ObjectId('64dc0475c136bea33cd07dfc'), 'datetime': '1/1/1965 20:00', 'city': 'conway', 'state': 'ar', 'country': 'us', 'shape': 'light', 'duration (seconds)': 3600, 'duration (hours/min)': '1 hour', 'comments': 'At a drive-in during the summer my brother and I saw three lights above and to the right of the screen.  The movie was &quot;CAT BALOU.&quot; We', 'date posted': '6/2/1998', 'latitude': 35.0886111, 'longitude': -92.4419444}\n",
      "{'_id': ObjectId('64dc0475c136bea33cd07dfd'), 'datetime': '1/1/1966 17:00', 'city': 'flagstaff', 'state': 'az', 'country': 'us', 'shape': 'disk', 'duration (seconds)': 600, 'duration (hours/min)': '10 minutes', 'comments': 'Spotted two black disk shaped objects flying over a small nearby mountain&#44 followed by a single engine plane .', 'date posted': '1/3/2001', 'latitude': 35.1980556, 'longitude': -111.6505556}\n",
      "{'_id': ObjectId('64dc0475c136bea33cd07dfe'), 'datetime': '1/1/1968 00:00', 'city': 'lawndale', 'state': 'ca', 'country': 'us', 'shape': 'circle', 'duration (seconds)': 60, 'duration (hours/min)': '1 minute', 'comments': 'Craft with a portal', 'date posted': '12/12/2009', 'latitude': 33.8872222, 'longitude': -118.3516667}\n",
      "{'_id': ObjectId('64dc0475c136bea33cd07dff'), 'datetime': '1/1/1968 00:00', 'city': 'burlington', 'state': 'nj', 'country': 'us', 'shape': 'circle', 'duration (seconds)': 1200, 'duration (hours/min)': '20min', 'comments': 'New Years night in the late 60&#39s I&#44 my fater and two brothers observed a circular shaped craft', 'date posted': '3/19/2009', 'latitude': 40.0711111, 'longitude': -74.8652778}\n",
      "{'_id': ObjectId('64dc0475c136bea33cd07e00'), 'datetime': '1/1/1968 21:00', 'city': 'west monroe', 'state': 'la', 'country': 'us', 'shape': 'light', 'duration (seconds)': 1200, 'duration (hours/min)': '20 minutes', 'comments': 'On the way into town&#44 a light appeared over head and followed us.', 'date posted': '7/5/1999', 'latitude': 32.5091667, 'longitude': -92.1191667}\n",
      "{'_id': ObjectId('64dc0475c136bea33cd07e01'), 'datetime': '1/1/1968 23:00', 'city': 'wheaton', 'state': 'md', 'country': 'us', 'shape': 'circle', 'duration (seconds)': 60, 'duration (hours/min)': '1 minute', 'comments': 'Woke up by loud noise&#44 parents said to come out and see the object. i was 9 or so at time. i remember red sphere hovering in one place', 'date posted': '11/11/2013', 'latitude': 39.0397222, 'longitude': -77.0555556}\n",
      "{'_id': ObjectId('64dc0475c136bea33cd07e02'), 'datetime': '1/1/1969 20:00', 'city': 'farmerville', 'state': 'la', 'country': 'us', 'shape': 'other', 'duration (seconds)': 120, 'duration (hours/min)': '2 minutes', 'comments': 'Five bright white&#44 small balls jumped out of the sky&#44 and bounced across the road.', 'date posted': '7/5/1999', 'latitude': 32.7733333, 'longitude': -92.4055556}\n",
      "{'_id': ObjectId('64dc0475c136bea33cd07e03'), 'datetime': '1/1/1970 02:00', 'city': 'joplin', 'state': 'mo', 'country': 'us', 'shape': 'unknown', 'duration (seconds)': 1800, 'duration (hours/min)': '30 min', 'comments': 'Large object moved slowly over the city', 'date posted': '7/6/2010', 'latitude': 37.0841667, 'longitude': -94.5130556}\n",
      "{'_id': ObjectId('64dc0475c136bea33cd07e04'), 'datetime': '1/1/1970 12:00', 'city': 'grand rapids', 'state': 'mi', 'country': 'us', 'shape': 'disk', 'duration (seconds)': 1800, 'duration (hours/min)': '30 minutes', 'comments': 'Low flying&#44 zig-zagging disc with lights in the 70&#39s', 'date posted': '11/11/2003', 'latitude': 42.9633333, 'longitude': -85.6680556}\n",
      "{'_id': ObjectId('64dc0475c136bea33cd07e05'), 'datetime': '1/1/1971 01:00', 'city': 'niagara falls (canada)', 'state': 'on', 'country': 'ca', 'shape': 'oval', 'duration (seconds)': 300, 'duration (hours/min)': '5 min.', 'comments': 'In van driving home. Van stalled beside Winery. One block ahead&#44 hovering over an old schoolhouse was bright lights - Red and white cir', 'date posted': '12/2/2000', 'latitude': 43.1, 'longitude': -79.05}\n",
      "{'_id': ObjectId('64dc0475c136bea33cd07e06'), 'datetime': '1/1/1972 16:00', 'city': 'seattle', 'state': 'wa', 'country': 'us', 'shape': 'triangle', 'duration (seconds)': 30, 'duration (hours/min)': '30 sec.', 'comments': 'Man reports sighting in l972 or 1973.  Heard woman scream&#44 turned&#44 and saw large triangular ship in sky.', 'date posted': '11/2/1999', 'latitude': 47.6063889, 'longitude': -122.3308333}\n",
      "{'_id': ObjectId('64dc0475c136bea33cd07e07'), 'datetime': '1/1/1972 20:00', 'city': 'huntsville', 'state': 'al', 'country': 'us', 'shape': 'unknown', 'duration (seconds)': 120, 'duration (hours/min)': '2 minutes', 'comments': '3 lights&#44 light speed&#44 no sound&#44 90 degree turn', 'date posted': '4/16/2005', 'latitude': 34.7302778, 'longitude': -86.5861111}\n",
      "{'_id': ObjectId('64dc0475c136bea33cd07e08'), 'datetime': '1/1/1973 23:30', 'city': 'chattanooga', 'state': 'tn', 'country': 'us', 'shape': 'oval', 'duration (seconds)': 30, 'duration (hours/min)': '30 sec.', 'comments': '3 objects in a tri-angle formation also in stationary mode for about 20 to 30 sec. Then dispersed in different directions in less than', 'date posted': '12/16/1999', 'latitude': 35.0455556, 'longitude': -85.3097222}\n",
      "{'_id': ObjectId('64dc0475c136bea33cd07e09'), 'datetime': '1/1/1974 01:00', 'city': 'kent', 'state': 'wa', 'country': 'us', 'shape': 'cigar', 'duration (seconds)': 300, 'duration (hours/min)': '5:00 min', 'comments': 'Cigar shaped with distint window shapes the width of the object&#44 wasn&#39t moving&#44 it was about 20 to 30 feet off the ground.  I saw no li', 'date posted': '1/28/1999', 'latitude': 47.3811111, 'longitude': -122.2336111}\n",
      "{'_id': ObjectId('64dc0475c136bea33cd07e0a'), 'datetime': '1/1/1975 01:00', 'city': 'goree/mineral wells (between)', 'state': 'tx', 'country': 'us', 'shape': 'light', 'duration (seconds)': 14400, 'duration (hours/min)': '3-4 hours', 'comments': 'saw a plane&#44bright light beside it then beind it then back beside it a 100 feet or so. 500 Lights On Object0: Yes', 'date posted': '7/10/2010', 'latitude': 32.808461, 'longitude': -98.112822}\n",
      "{'_id': ObjectId('64dc0475c136bea33cd07e0b'), 'datetime': '1/1/1975 03:00', 'city': 'jamestown', 'state': 'ny', 'country': 'us', 'shape': 'sphere', 'duration (seconds)': 120, 'duration (hours/min)': 'a few minutes', 'comments': 'I was 13-15.  I was in my parent house on Moon Rd.&#44 Woke up in the middle of the night.  Looked out the window. saw a SMALL round objec', 'date posted': '3/7/1998', 'latitude': 42.0969444, 'longitude': -79.2355556}\n",
      "{'_id': ObjectId('64dc0475c136bea33cd07e0c'), 'datetime': '1/1/1975 12:00', 'city': 'phoenix', 'state': 'az', 'country': 'us', 'shape': 'disk', 'duration (seconds)': 300, 'duration (hours/min)': '5 minutes', 'comments': 'Saucer sighting in 1970s near Phoenix&#44 AZ.', 'date posted': '3/19/2009', 'latitude': 33.4483333, 'longitude': -112.0733333}\n",
      "{'_id': ObjectId('64dc0475c136bea33cd07e0d'), 'datetime': '1/1/1975 19:00', 'city': 'waverly hall', 'state': 'ga', 'country': 'us', 'shape': 'sphere', 'duration (seconds)': 600, 'duration (hours/min)': '5 - 10 min', 'comments': 'Hovering Sphere', 'date posted': '11/26/2003', 'latitude': 32.6833333, 'longitude': -84.7383333}\n",
      "{'_id': ObjectId('64dc0475c136bea33cd07e0e'), 'datetime': '1/1/1975 20:00', 'city': 'denver', 'state': 'co', 'country': 'us', 'shape': 'disk', 'duration (seconds)': 180, 'duration (hours/min)': '3 minutes', 'comments': 'Flying saucer seen by 100 people at drive-in theater in Denver', 'date posted': '12/23/2002', 'latitude': 39.7391667, 'longitude': -104.9841667}\n",
      "{'_id': ObjectId('64dc0475c136bea33cd07e0f'), 'datetime': '1/1/1976 21:00', 'city': 'fort gardens', 'state': 'ga', 'country': 'us', 'shape': 'flash', 'duration (seconds)': 300, 'duration (hours/min)': '5min', 'comments': 'Remember when the lights appeared over Georgia?', 'date posted': '8/5/2001', 'latitude': 33.355436, 'longitude': -82.395384}\n",
      "{'_id': ObjectId('64dc0475c136bea33cd07e10'), 'datetime': '1/1/1977 02:30', 'city': 'new canaan', 'state': 'ct', 'country': 'us', 'shape': 'unknown', 'duration (seconds)': 9468000, 'duration (hours/min)': '2-3 years', 'comments': 'possible abductions when I was a kid living in Ct. in the middle of the night i would be forcibly floated out of house by short people', 'date posted': '11/19/1998', 'latitude': 41.1466667, 'longitude': -73.4952778}\n",
      "{'_id': ObjectId('64dc0475c136bea33cd07e11'), 'datetime': '1/1/1977 12:00', 'city': 'great neck', 'state': 'ny', 'country': 'us', 'shape': 'cylinder', 'duration (seconds)': 1800, 'duration (hours/min)': '30 minutes', 'comments': 'When I was a child&#44 I witnessed shiney gold cylinders in the sky.  The sky was very clear; not a cloud in the sky.  The objects were fl', 'date posted': '2/1/2007', 'latitude': 40.8005556, 'longitude': -73.7288889}\n",
      "{'_id': ObjectId('64dc0475c136bea33cd07e12'), 'datetime': '1/1/1977 20:00', 'city': 'la crescenta', 'state': 'ca', 'country': 'us', 'shape': 'formation', 'duration (seconds)': 10800, 'duration (hours/min)': '2 to 3 hours', 'comments': 'Triangle formation in foothills.', 'date posted': '11/28/2007', 'latitude': 34.2241667, 'longitude': -118.2391667}\n",
      "{'_id': ObjectId('64dc0475c136bea33cd07e13'), 'datetime': '1/1/1977 20:00', 'city': 'westminster', 'state': 'ca', 'country': 'us', 'shape': 'disk', 'duration (seconds)': 300, 'duration (hours/min)': '5 minutes', 'comments': 'There were two ships&#44 saucer shaped&#44 silver grey..like pewter&#44 soundless&#44 drifting over our neighborhood like silent boats on the water', 'date posted': '2/14/2010', 'latitude': 33.7591667, 'longitude': -118.0058333}\n",
      "{'_id': ObjectId('64dc0475c136bea33cd07e14'), 'datetime': '1/1/1978 00:00', 'city': 'london (uk/englnd)', 'state': '', 'country': 'gb', 'shape': 'disk', 'duration (seconds)': 1, 'duration (hours/min)': '1 second', 'comments': 'Twin-disc &#39pivoting&#39 UFO observed to rapidly cross the skies of Slough&#44 U.K.&#44 in 1977/ 1978.', 'date posted': '6/12/2008', 'latitude': 51.514125, 'longitude': -0.093689}\n",
      "{'_id': ObjectId('64dc0475c136bea33cd07e15'), 'datetime': '1/1/1978 13:00', 'city': 'sagle', 'state': 'id', 'country': 'us', 'shape': 'sphere', 'duration (seconds)': 20, 'duration (hours/min)': '20 seconds', 'comments': 'Hovering gray&#44 grapefruit size&#44 shaped sphere that travels at lightning speed.', 'date posted': '10/8/2007', 'latitude': 48.2025, 'longitude': -116.5466667}\n",
      "{'_id': ObjectId('64dc0475c136bea33cd07e16'), 'datetime': '1/1/1978 01:00', 'city': 'june lake', 'state': 'ca', 'country': 'us', 'shape': 'disk', 'duration (seconds)': 900, 'duration (hours/min)': '15 min', 'comments': 'seen flying saucers at june lake ca', 'date posted': '2/14/2006', 'latitude': 37.7797222, 'longitude': -119.0744444}\n",
      "{'_id': ObjectId('64dc0475c136bea33cd07e17'), 'datetime': '1/1/1979 17:00', 'city': 'orange', 'state': 'ca', 'country': 'us', 'shape': 'disk', 'duration (seconds)': 1200, 'duration (hours/min)': '20 minutes', 'comments': 'In Broad daylight saucer appeared 50 feet above after I looked up to see what the humming and deep bass sound was', 'date posted': '9/15/2005', 'latitude': 33.7877778, 'longitude': -117.8522222}\n",
      "{'_id': ObjectId('64dc0475c136bea33cd07e18'), 'datetime': '1/1/1979 20:00', 'city': 'redondo beach', 'state': 'ca', 'country': 'us', 'shape': 'disk', 'duration (seconds)': 15, 'duration (hours/min)': '15 sec.', 'comments': 'Low-altitude disk flying slowly; red lights around perimeter.', 'date posted': '2/23/2000', 'latitude': 33.8491667, 'longitude': -118.3875}\n",
      "{'_id': ObjectId('64dc0475c136bea33cd07e19'), 'datetime': '1/1/1980 01:00', 'city': 'indianapolis', 'state': 'in', 'country': 'us', 'shape': 'light', 'duration (seconds)': 420, 'duration (hours/min)': '7 minutes', 'comments': 'Very bright green light without sound moved over me and my car from a wooded area about a 1000 ft. up.', 'date posted': '6/12/2007', 'latitude': 39.7683333, 'longitude': -86.1580556}\n",
      "{'_id': ObjectId('64dc0475c136bea33cd07e1a'), 'datetime': '1/1/1980 19:00', 'city': 'yorkeys knob (north of cairns) (qld&#44 australia))', 'state': '', 'country': 'au', 'shape': 'other', 'duration (seconds)': 600, 'duration (hours/min)': '2 - 10 minutes', 'comments': '1 slow moving UFO rising from East (ocean) to West&#44 on straight path&#44 rectangular/cylindrical shape.', 'date posted': '6/20/2005', 'latitude': -16.816667, 'longitude': 145.716667}\n",
      "{'_id': ObjectId('64dc0475c136bea33cd07e1b'), 'datetime': '1/1/1980 23:30', 'city': 'chicopee', 'state': 'ma', 'country': 'us', 'shape': 'diamond', 'duration (seconds)': 300, 'duration (hours/min)': '5 minutes', 'comments': 'I heard a noise like thunder&#44 went to the kitchen window and saw a black diamond-shaped craft hovering over the porch.', 'date posted': '2/16/2000', 'latitude': 42.1486111, 'longitude': -72.6083333}\n",
      "{'_id': ObjectId('64dc0475c136bea33cd07e1c'), 'datetime': '1/1/1981 00:01', 'city': 'el cajon', 'state': 'ca', 'country': 'us', 'shape': 'sphere', 'duration (seconds)': 1800, 'duration (hours/min)': '30 minute', 'comments': 'My husband and I were at home just bringing in the new year of 1981 watching the the ball drop in New York city having not even a glass', 'date posted': '1/22/2004', 'latitude': 32.7947222, 'longitude': -116.9616667}\n",
      "{'_id': ObjectId('64dc0475c136bea33cd07e1d'), 'datetime': '1/1/1981 01:00', 'city': 'el reno', 'state': 'ok', 'country': 'us', 'shape': 'disk', 'duration (seconds)': 1800, 'duration (hours/min)': '30 mins', 'comments': 'New Years 1981 Crashing Disc', 'date posted': '1/11/2002', 'latitude': 35.5322222, 'longitude': -97.9547222}\n",
      "{'_id': ObjectId('64dc0475c136bea33cd07e1e'), 'datetime': '1/1/1982 17:00', 'city': 'newcastle (uk/england)', 'state': '', 'country': 'gb', 'shape': 'cylinder', 'duration (seconds)': 30, 'duration (hours/min)': '30 seconds', 'comments': 'size&#44shape&#44were all unusaul but the speed at the flightpath it adopted prier to disapearering was beyond this planets compensation.', 'date posted': '3/21/2003', 'latitude': 54.2, 'longitude': -5.883333}\n",
      "{'_id': ObjectId('64dc0475c136bea33cd07e1f'), 'datetime': '1/1/1982 20:00', 'city': 'orange county', 'state': 'nc', 'country': 'us', 'shape': 'circle', 'duration (seconds)': 900, 'duration (hours/min)': '15 minutes', 'comments': 'this was no helicopter squad', 'date posted': '12/23/2002', 'latitude': 35.1294444, 'longitude': -78.5225}\n",
      "{'_id': ObjectId('64dc0475c136bea33cd07e20'), 'datetime': '1/1/1985 01:00', 'city': 'holly', 'state': 'mi', 'country': 'us', 'shape': 'other', 'duration (seconds)': 900, 'duration (hours/min)': '15min', 'comments': 'group of lihtts two circled real fast then they all shot strait up.gone', 'date posted': '3/11/2006', 'latitude': 42.7919444, 'longitude': -83.6277778}\n",
      "{'_id': ObjectId('64dc0475c136bea33cd07e21'), 'datetime': '1/1/1985 21:00', 'city': 'largo', 'state': 'fl', 'country': 'us', 'shape': 'other', 'duration (seconds)': 300, 'duration (hours/min)': '5 minutes', 'comments': 'Very large UFO&#44 irregular in shape&#44  glowing red-orange craters&#44 below cloud level&#44 no noise&#44  reported in paper as space debris.', 'date posted': '5/11/2005', 'latitude': 27.9091667, 'longitude': -82.7875}\n",
      "{'_id': ObjectId('64dc0475c136bea33cd07e22'), 'datetime': '1/1/1985 23:00', 'city': 'caribbean sea', 'state': 'fl', 'country': 'us', 'shape': 'other', 'duration (seconds)': 900, 'duration (hours/min)': '15 minutes', 'comments': 'explosion and orbs in carribean waters', 'date posted': '10/31/2003', 'latitude': 26.575128, 'longitude': -80.063918}\n",
      "{'_id': ObjectId('64dc0475c136bea33cd07e23'), 'datetime': '1/1/1986 03:00', 'city': 'crestwood', 'state': 'ky', 'country': 'us', 'shape': 'oval', 'duration (seconds)': 180, 'duration (hours/min)': '2-3 minutes', 'comments': 'A faint beam of white light that seemed to come from a star or star-like object.', 'date posted': '4/27/2004', 'latitude': 38.3241667, 'longitude': -85.4725}\n",
      "{'_id': ObjectId('64dc0475c136bea33cd07e24'), 'datetime': '1/1/1977 19:30', 'city': 'new york city (manhattan)', 'state': 'ny', 'country': 'us', 'shape': 'sphere', 'duration (seconds)': 60, 'duration (hours/min)': '30-60 seconds', 'comments': 'A small gray ball moved past my bedroom window on the 15th floor of a New York City apartment building.', 'date posted': '9/2/2005', 'latitude': 40.7141667, 'longitude': -74.0063889}\n",
      "{'_id': ObjectId('64dc0475c136bea33cd07e25'), 'datetime': '1/1/1987 00:00', 'city': 'castro valley', 'state': 'ca', 'country': 'us', 'shape': 'oval', 'duration (seconds)': 10, 'duration (hours/min)': '9-10 seconds', 'comments': 'One single&#44 beach ball sized .... &amp;quot;red ball&amp;quot;', 'date posted': '7/3/2013', 'latitude': 37.6941667, 'longitude': -122.0852778}\n",
      "{'_id': ObjectId('64dc0475c136bea33cd07e26'), 'datetime': '1/1/1988 03:00', 'city': 'roselle', 'state': 'il', 'country': 'us', 'shape': 'triangle', 'duration (seconds)': 180, 'duration (hours/min)': '2-3 min', 'comments': 'fast moving Triangle with no sound and orange lights&#44 stops hovers and speeds off.', 'date posted': '10/30/2006', 'latitude': 41.9847222, 'longitude': -88.0797222}\n",
      "{'_id': ObjectId('64dc0475c136bea33cd07e27'), 'datetime': '1/1/1988 17:00', 'city': 'kenner', 'state': 'la', 'country': 'us', 'shape': 'circle', 'duration (seconds)': 1200, 'duration (hours/min)': '20 minutes', 'comments': 'Gigantic circular object hovering&#44 and then with progressive speed moved away and disappeared. 500 Lights On Object0: Yes', 'date posted': '3/31/2008', 'latitude': 29.9938889, 'longitude': -90.2416667}\n",
      "{'_id': ObjectId('64dc0475c136bea33cd07e28'), 'datetime': '1/1/1989 23:59', 'city': 'wagoner', 'state': 'ok', 'country': 'us', 'shape': 'light', 'duration (seconds)': 120, 'duration (hours/min)': '1-2 mins', 'comments': 'My friend and I who were both 16 at the time were driving to her house on state highway 51 westbound. We were going to be late for curf', 'date posted': '3/7/1998', 'latitude': 35.9594444, 'longitude': -95.3691667}\n",
      "{'_id': ObjectId('64dc0475c136bea33cd07e29'), 'datetime': '1/1/1991 21:00', 'city': 'helena', 'state': 'ar', 'country': 'us', 'shape': 'triangle', 'duration (seconds)': 60, 'duration (hours/min)': '1 minutes', 'comments': 'I was outside of the police station with my dog when I got this sudden urge to look up. I saw a black triangle flying really low and ma', 'date posted': '2/18/2001', 'latitude': 34.5294444, 'longitude': -90.5916667}\n",
      "{'_id': ObjectId('64dc0475c136bea33cd07e2a'), 'datetime': '1/1/1979 02:00', 'city': 'hwy 80', 'state': 'ca', 'country': 'us', 'shape': 'disk', 'duration (seconds)': 3600, 'duration (hours/min)': '1 hour', 'comments': 'This event was called into the Air Force at 7:00 AM  01/01/1979 and all 4 witnesses gave personal detailed information.', 'date posted': '11/20/2013', 'latitude': 49.610189, 'longitude': -56.176297}\n",
      "{'_id': ObjectId('64dc0475c136bea33cd07e2b'), 'datetime': '1/1/1992 00:00', 'city': 'seattle', 'state': 'wa', 'country': 'us', 'shape': 'other', 'duration (seconds)': 120, 'duration (hours/min)': '2 min', 'comments': 'I and a witness saw a black helicopter like object in a very populated area af Seattle Wa&#44 got a good long look at it but it was night.', 'date posted': '12/9/2003', 'latitude': 47.6063889, 'longitude': -122.3308333}\n",
      "{'_id': ObjectId('64dc0475c136bea33cd07e2c'), 'datetime': '1/1/1994 01:00', 'city': 'interstate 10', 'state': 'fl', 'country': 'us', 'shape': 'triangle', 'duration (seconds)': 180, 'duration (hours/min)': '3 min. aprox.', 'comments': 'slow moving craft with 6 small green lights one side facing us.Moving slowly almost touching tops of trees.Making no sound and with no', 'date posted': '3/7/1998', 'latitude': 30.530779, 'longitude': -84.551303}\n",
      "{'_id': ObjectId('64dc0475c136bea33cd07e2d'), 'datetime': '1/1/1994 00:00', 'city': 'el segundo', 'state': 'ca', 'country': 'us', 'shape': 'other', 'duration (seconds)': 1800, 'duration (hours/min)': '30 minutes', 'comments': 'What I&#39m seeing&#44 please help.', 'date posted': '11/11/2013', 'latitude': 33.9191667, 'longitude': -118.4155556}\n",
      "{'_id': ObjectId('64dc0475c136bea33cd07e2e'), 'datetime': '1/1/1995 03:00', 'city': 'kansas (eastern)', 'state': 'ks', 'country': 'us', 'shape': 'light', 'duration (seconds)': 60, 'duration (hours/min)': '1 min or less', 'comments': 'A beam of rotating light in eastern Kansas', 'date posted': '7/16/2006', 'latitude': 39.011902, 'longitude': -98.484246}\n",
      "{'_id': ObjectId('64dc0475c136bea33cd07e2f'), 'datetime': '1/1/1994 18:00', 'city': 'ringwood', 'state': 'nj', 'country': 'us', 'shape': 'unknown', 'duration (seconds)': 240, 'duration (hours/min)': '4minutes', 'comments': 'Strange light&#44 stranger disappearance', 'date posted': '4/16/2005', 'latitude': 41.1133333, 'longitude': -74.2458333}\n",
      "{'_id': ObjectId('64dc0475c136bea33cd07e30'), 'datetime': '1/1/1995 15:00', 'city': 'greenwood', 'state': 'sc', 'country': 'us', 'shape': 'sphere', 'duration (seconds)': 20, 'duration (hours/min)': '20 seconds', 'comments': 'Bright red sphere floating and completely silent takes off and disappears.', 'date posted': '7/14/2013', 'latitude': 34.1952778, 'longitude': -82.1619444}\n",
      "{'_id': ObjectId('64dc0475c136bea33cd07e31'), 'datetime': '1/1/1995 15:00', 'city': 'cedar key', 'state': 'fl', 'country': 'us', 'shape': 'triangle', 'duration (seconds)': 180, 'duration (hours/min)': '3 minutes', 'comments': 'I could hear and see it&#44 close encounter.', 'date posted': '8/16/2002', 'latitude': 29.1383333, 'longitude': -83.0352778}\n",
      "{'_id': ObjectId('64dc0475c136bea33cd07e32'), 'datetime': '1/1/1995 06:00', 'city': 'travelers rest', 'state': 'sc', 'country': 'us', 'shape': 'triangle', 'duration (seconds)': 8, 'duration (hours/min)': '8 seconds', 'comments': 'something i never want to see again atleast not this close. 500 Lights On Object0: Yes', 'date posted': '3/31/2008', 'latitude': 34.9675, 'longitude': -82.4436111}\n",
      "{'_id': ObjectId('64dc0475c136bea33cd07e33'), 'datetime': '1/1/1995 21:00', 'city': 'tucson', 'state': 'az', 'country': 'us', 'shape': 'triangle', 'duration (seconds)': 600, 'duration (hours/min)': '5-10 minutes', 'comments': '120-140 ft&#44 X 35-40 ft&#44 X 30 ft&#44 triangler craft&#44 metalic colored&#44 4 lights directly down the center with 2 strobes and 3 very large li', 'date posted': '3/7/1998', 'latitude': 32.2216667, 'longitude': -110.9258333}\n",
      "{'_id': ObjectId('64dc0475c136bea33cd07e34'), 'datetime': '1/1/1995 22:45', 'city': 'anaheim', 'state': 'ca', 'country': 'us', 'shape': 'unknown', 'duration (seconds)': 120, 'duration (hours/min)': '2 minutes', 'comments': 'Telephoned Report:  Man witnessed a motionless point of light&#44 which then began moving to north and disappeared from sight.', 'date posted': '11/20/2001', 'latitude': 33.8352778, 'longitude': -117.9136111}\n",
      "{'_id': ObjectId('64dc0475c136bea33cd07e35'), 'datetime': '1/1/1995 10:00', 'city': 'oxnard', 'state': 'ca', 'country': 'us', 'shape': 'changing', 'duration (seconds)': 600, 'duration (hours/min)': '10 min', 'comments': '1 light turns into 4 (light show)', 'date posted': '12/14/2004', 'latitude': 34.1975, 'longitude': -119.1761111}\n",
      "{'_id': ObjectId('64dc0475c136bea33cd07e36'), 'datetime': '1/1/1995 23:00', 'city': 'southampton', 'state': 'ny', 'country': 'us', 'shape': 'light', 'duration (seconds)': 20, 'duration (hours/min)': '15-20seconds', 'comments': 'Very bright light moved from one side of sky to the other and in circles at an amazing speed&#44 changed direction and flew off.', 'date posted': '7/5/1999', 'latitude': 40.8841667, 'longitude': -72.39}\n",
      "{'_id': ObjectId('64dc0475c136bea33cd07e37'), 'datetime': '1/1/1996 01:30', 'city': 'crescent city', 'state': 'ca', 'country': 'us', 'shape': 'light', 'duration (seconds)': 1800, 'duration (hours/min)': '30 minutes', 'comments': 'unexplainable white light  above the mountain&#44 flashing it blue&#44 all animals making noises.', 'date posted': '12/7/2006', 'latitude': 41.7561111, 'longitude': -124.2005556}\n",
      "{'_id': ObjectId('64dc0475c136bea33cd07e38'), 'datetime': '1/1/1996 03:30', 'city': 'key largo', 'state': 'fl', 'country': 'us', 'shape': 'triangle', 'duration (seconds)': 240, 'duration (hours/min)': '3-4 min', 'comments': '3:30 in the morning observe a black triangular shaped craft fly directly over Key Largo  Fl. aproximately one tholusand ft. up and 2000', 'date posted': '6/18/1998', 'latitude': 25.0861111, 'longitude': -80.4475}\n",
      "{'_id': ObjectId('64dc0475c136bea33cd07e39'), 'datetime': '1/1/1996 07:10', 'city': 'phoenix', 'state': 'az', 'country': 'us', 'shape': 'unknown', 'duration (seconds)': 2100, 'duration (hours/min)': '35 min', 'comments': '4 adults see 4 lights move erratically for 35 min.  Then 5 silent boomerang ships w/ glowing silver underbellies fly by in V formation&#33', 'date posted': '11/2/1999', 'latitude': 33.4483333, 'longitude': -112.0733333}\n",
      "{'_id': ObjectId('64dc0475c136bea33cd07e3a'), 'datetime': '1/1/1995 02:00', 'city': 'el granada', 'state': 'ca', 'country': 'us', 'shape': 'fireball', 'duration (seconds)': 45, 'duration (hours/min)': '45 seconds', 'comments': 'Glowing fireball  object crashed at Maverick&#39s Beach', 'date posted': '11/4/2002', 'latitude': 37.5027778, 'longitude': -122.4683333}\n",
      "{'_id': ObjectId('64dc0475c136bea33cd07e3b'), 'datetime': '1/1/1996 12:00', 'city': 'san diego', 'state': 'ca', 'country': 'us', 'shape': 'sphere', 'duration (seconds)': 90, 'duration (hours/min)': '30seconds-1minute', 'comments': 'A metalic sphere flew across the daytime sky.', 'date posted': '12/9/2003', 'latitude': 32.7152778, 'longitude': -117.1563889}\n",
      "{'_id': ObjectId('64dc0475c136bea33cd07e3c'), 'datetime': '1/1/1996 21:00', 'city': 'elizabethtown', 'state': 'nc', 'country': 'us', 'shape': 'triangle', 'duration (seconds)': 300, 'duration (hours/min)': '4-5 minutes', 'comments': 'TRIANGLE SHAPED SHADOW BLOCKS OUT STARS', 'date posted': '8/5/2001', 'latitude': 34.6291667, 'longitude': -78.6055556}\n",
      "{'_id': ObjectId('64dc0475c136bea33cd07e3d'), 'datetime': '1/1/1996 23:00', 'city': 'seattle', 'state': 'wa', 'country': 'us', 'shape': 'sphere', 'duration (seconds)': 20, 'duration (hours/min)': '20 seconds', 'comments': 'saw circle in lightning', 'date posted': '10/31/2003', 'latitude': 47.6063889, 'longitude': -122.3308333}\n",
      "{'_id': ObjectId('64dc0475c136bea33cd07e3e'), 'datetime': '1/1/1997 01:30', 'city': 'perth (western australia)', 'state': '', 'country': 'au', 'shape': 'triangle', 'duration (seconds)': 3600, 'duration (hours/min)': '1hr', 'comments': 'u.f.o. over suberbia', 'date posted': '12/23/2002', 'latitude': -31.95224, 'longitude': 115.861397}\n",
      "{'_id': ObjectId('64dc0475c136bea33cd07e3f'), 'datetime': '1/1/1997 07:00', 'city': 'jamestown', 'state': 'nd', 'country': 'us', 'shape': 'changing', 'duration (seconds)': 600, 'duration (hours/min)': 'around 10 mins', 'comments': 'AUTHOR&quot;S SUMMARY:  The object was around the size of a small car it changed shape and light color and pattern as it moved. it was silen', 'date posted': '10/12/2001', 'latitude': 46.9105556, 'longitude': -98.7080556}\n",
      "{'_id': ObjectId('64dc0475c136bea33cd07e40'), 'datetime': '1/1/1997 07:00', 'city': 'chanute', 'state': 'ks', 'country': 'us', 'shape': 'circle', 'duration (seconds)': 35, 'duration (hours/min)': '25-35 sec`s', 'comments': '3 circle shaped objects travelling due north.', 'date posted': '2/16/2000', 'latitude': 37.6791667, 'longitude': -95.4569444}\n",
      "{'_id': ObjectId('64dc0475c136bea33cd07e41'), 'datetime': '1/1/1997 13:00', 'city': 'arrayo grande', 'state': 'ca', 'country': 'us', 'shape': 'oval', 'duration (seconds)': 14400, 'duration (hours/min)': '4 hours', 'comments': 'These sightings were ten years apart and exactly the same type of craft&#44 wich I have seen since then in photos of sightings on the web.', 'date posted': '10/31/2008', 'latitude': 35.118587, 'longitude': -120.590725}\n",
      "{'_id': ObjectId('64dc0475c136bea33cd07e42'), 'datetime': '1/1/1997 15:30', 'city': 'johnston', 'state': 'ri', 'country': 'us', 'shape': 'rectangle', 'duration (seconds)': 60, 'duration (hours/min)': '1 min', 'comments': 'Cube haystack shape seen a between 1997-1998 (not sure of exact date)........', 'date posted': '8/11/2004', 'latitude': 41.82052, 'longitude': -71.512617}\n",
      "{'_id': ObjectId('64dc0475c136bea33cd07e43'), 'datetime': '1/1/1997 19:30', 'city': 'phoenix', 'state': 'az', 'country': 'us', 'shape': 'chevron', 'duration (seconds)': 1200, 'duration (hours/min)': '20 minutes', 'comments': 'Phoenix lights witnessed and documented two months prior to major sighting.', 'date posted': '10/15/2002', 'latitude': 33.4483333, 'longitude': -112.0733333}\n",
      "{'_id': ObjectId('64dc0475c136bea33cd07e44'), 'datetime': '1/1/1997 20:30', 'city': 'clatonia', 'state': 'ne', 'country': 'us', 'shape': 'unknown', 'duration (seconds)': 600, 'duration (hours/min)': '10 min.', 'comments': 'Woman &amp; daughter rept.  4-5 objs. with red&#44 blue&#44 and white lights.  Close to ground in fog.  Moved very fast. (No written rept.)', 'date posted': '11/2/1999', 'latitude': 40.4652778, 'longitude': -96.8494444}\n",
      "{'_id': ObjectId('64dc0475c136bea33cd07e45'), 'datetime': '1/1/1997 24:00', 'city': 'chilhowie', 'state': 'va', 'country': 'us', 'shape': 'cross', 'duration (seconds)': 180, 'duration (hours/min)': '3 minuntes max', 'comments': '4 craft slowly came together from four directions (North&#44 South&#44 East&#44 West) They stayed together for 2-3 minutes(shot off in different', 'date posted': '8/10/1999', 'latitude': 36.7983333, 'longitude': -81.6825}\n",
      "{'_id': ObjectId('64dc0475c136bea33cd07e46'), 'datetime': '1/1/1997 23:00', 'city': 'tom sauk moutain', 'state': 'mo', 'country': 'us', 'shape': 'light', 'duration (seconds)': 600, 'duration (hours/min)': '10 minutes', 'comments': 'This was January 1&#44 1997.  I was backpacking in the Mark Twain Forest of Missouri.  It was about 11pm.  I was sitting on a rock in the', 'date posted': '8/12/2008', 'latitude': 37.964253, 'longitude': -91.831833}\n",
      "{'_id': ObjectId('64dc0475c136bea33cd07e47'), 'datetime': '1/1/1998 01:42', 'city': 'allentown', 'state': 'pa', 'country': 'us', 'shape': 'light', 'duration (seconds)': 1800, 'duration (hours/min)': '30 minutes +', 'comments': 'One object&#44 too far to see size and shape&#44 one blinking light  red/green/white.  Stayed in oproximately same spot for about 30 minutes', 'date posted': '3/7/1998', 'latitude': 40.6083333, 'longitude': -75.4905556}\n",
      "{'_id': ObjectId('64dc0475c136bea33cd07e48'), 'datetime': '1/1/1998 02:00', 'city': 'elizabethtown', 'state': 'il', 'country': 'us', 'shape': 'triangle', 'duration (seconds)': 240, 'duration (hours/min)': '4 minutes', 'comments': 'Triangular object traveling south crossed the highway in front of us hovered then turned east and left with no sound.', 'date posted': '7/11/2000', 'latitude': 37.4458333, 'longitude': -88.305}\n",
      "{'_id': ObjectId('64dc0475c136bea33cd07e49'), 'datetime': '1/1/1998 04:00', 'city': 'huelo', 'state': 'hi', 'country': 'us', 'shape': 'light', 'duration (seconds)': 3600, 'duration (hours/min)': '1 hour', 'comments': 'I&#39ve seen many strange things&#44 from beings in my room to faces looking down on me&#44 and I was not alone&#33&#33', 'date posted': '2/25/2003', 'latitude': 20.9083333, 'longitude': -156.2275}\n",
      "{'_id': ObjectId('64dc0475c136bea33cd07e4a'), 'datetime': '1/1/1998 06:00', 'city': 'hoboken', 'state': 'nj', 'country': 'us', 'shape': 'disk', 'duration (seconds)': 1800, 'duration (hours/min)': '30 min', 'comments': 'Incredible UFO sighting in Hoboken NJ around 1997-1998', 'date posted': '6/18/2004', 'latitude': 40.7438889, 'longitude': -74.0327778}\n",
      "{'_id': ObjectId('64dc0475c136bea33cd07e4b'), 'datetime': '1/1/1998 07:30', 'city': 'pittsburgh', 'state': 'pa', 'country': 'us', 'shape': 'formation', 'duration (seconds)': 1200, 'duration (hours/min)': '20 minutes', 'comments': '28-30 Lighted objects coming up over the city hovering and almost coliding with one another. Red lights escorting them. Vanished.', 'date posted': '3/7/1998', 'latitude': 40.4405556, 'longitude': -79.9961111}\n",
      "{'_id': ObjectId('64dc0475c136bea33cd07e4c'), 'datetime': '1/1/1998 13:00', 'city': 'baton rouge', 'state': 'la', 'country': 'us', 'shape': 'circle', 'duration (seconds)': 900, 'duration (hours/min)': '15 min', 'comments': 'the brightest lights over the mississippi river', 'date posted': '10/8/2007', 'latitude': 30.4505556, 'longitude': -91.1544444}\n",
      "{'_id': ObjectId('64dc0475c136bea33cd07e4d'), 'datetime': '1/1/1998 20:30', 'city': 'coxsacke', 'state': 'ny', 'country': 'us', 'shape': 'light', 'duration (seconds)': 120, 'duration (hours/min)': 'several minutes', 'comments': 'UFO over Correctional Facility', 'date posted': '2/7/2014', 'latitude': 42.350918, 'longitude': -73.802903}\n",
      "{'_id': ObjectId('64dc0475c136bea33cd07e4e'), 'datetime': '1/1/1998 23:00', 'city': 'milwaukee/west allis/west milwaukee', 'state': 'wi', 'country': 'us', 'shape': 'changing', 'duration (seconds)': 300, 'duration (hours/min)': '5 minutes', 'comments': 'Golden orb follows car&#44 then changes into black triangle ufo&#44 stops &#44 and &quot;waits&quot; for them to pass close by.', 'date posted': '2/1/2007', 'latitude': 43.012165, 'longitude': -88.021633}\n",
      "{'_id': ObjectId('64dc0475c136bea33cd07e4f'), 'datetime': '1/1/1999 02:30', 'city': 'loma rica', 'state': 'ca', 'country': 'us', 'shape': 'light', 'duration (seconds)': 1200, 'duration (hours/min)': '10-20minutes', 'comments': 'Lights I saw and now seem to feel.', 'date posted': '5/24/2005', 'latitude': 39.3119444, 'longitude': -121.4166667}\n",
      "{'_id': ObjectId('64dc0475c136bea33cd07e50'), 'datetime': '1/1/1999 03:00', 'city': 'bauxite', 'state': 'ar', 'country': 'us', 'shape': 'unknown', 'duration (seconds)': 120, 'duration (hours/min)': '2 minutes', 'comments': 'Close encounter', 'date posted': '1/31/2011', 'latitude': 34.5555556, 'longitude': -92.5211111}\n",
      "{'_id': ObjectId('64dc0475c136bea33cd07e51'), 'datetime': '1/1/1999 14:00', 'city': 'florence', 'state': 'sc', 'country': 'us', 'shape': 'cylinder', 'duration (seconds)': 600, 'duration (hours/min)': '10 min.', 'comments': 'It was a clear day  when I saw a  silver cylinder over head moving slowly making no sound', 'date posted': '8/28/2003', 'latitude': 34.1952778, 'longitude': -79.7627778}\n",
      "{'_id': ObjectId('64dc0475c136bea33cd07e52'), 'datetime': '1/1/1999 15:00', 'city': 'lake henshaw/la jolla indian res. (between&#44 hwy. 76)', 'state': 'ca', 'country': 'us', 'shape': 'cigar', 'duration (seconds)': 45, 'duration (hours/min)': '45 sec.', 'comments': 'Observed a snow white&#44 cigar shaped object from car&#44 over Palomar Mt.', 'date posted': '5/24/1999', 'latitude': 36.778261, 'longitude': -119.417932}\n"
     ]
    },
    {
     "name": "stderr",
     "output_type": "stream",
     "text": [
      "IOPub data rate exceeded.\n",
      "The notebook server will temporarily stop sending output\n",
      "to the client in order to avoid crashing it.\n",
      "To change this limit, set the config variable\n",
      "`--NotebookApp.iopub_data_rate_limit`.\n",
      "\n",
      "Current values:\n",
      "NotebookApp.iopub_data_rate_limit=1000000.0 (bytes/sec)\n",
      "NotebookApp.rate_limit_window=3.0 (secs)\n",
      "\n"
     ]
    }
   ],
   "source": [
    "results = db.ufo_sightings.find()\n",
    "for result in results:\n",
    "    print(result)"
   ]
  },
  {
   "cell_type": "code",
   "execution_count": null,
   "id": "39219f37",
   "metadata": {},
   "outputs": [],
   "source": []
  }
 ],
 "metadata": {
  "kernelspec": {
   "display_name": "Python 3 (ipykernel)",
   "language": "python",
   "name": "python3"
  },
  "language_info": {
   "codemirror_mode": {
    "name": "ipython",
    "version": 3
   },
   "file_extension": ".py",
   "mimetype": "text/x-python",
   "name": "python",
   "nbconvert_exporter": "python",
   "pygments_lexer": "ipython3",
   "version": "3.10.11"
  }
 },
 "nbformat": 4,
 "nbformat_minor": 5
}
